{
 "cells": [
  {
   "cell_type": "code",
   "execution_count": null,
   "metadata": {},
   "outputs": [],
   "source": [
    "from ssjlatbin.io import read_config\n",
    "config = read_config('../scripts/default_config.toml')"
   ]
  },
  {
   "cell_type": "code",
   "execution_count": null,
   "metadata": {},
   "outputs": [],
   "source": [
    "print(config)"
   ]
  },
  {
   "cell_type": "code",
   "execution_count": null,
   "metadata": {},
   "outputs": [],
   "source": [
    "import datetime\n",
    "from ssjlatbin.cdf import get_orbit_numbered_ssj_range_dataframe\n",
    "\n",
    "dmsp_number = 13\n",
    "sdt = datetime.datetime(2006,12,2)\n",
    "edt = datetime.datetime(2006,12,20)\n",
    "\n",
    "config['latbin']['delta_lat']=3\n",
    "config['io']['ssj_cdf_root_dir']='../dat' #Change path to be appropriate\n",
    "config['calculation']['uncertainty_tolerance']=75\n",
    "df = get_orbit_numbered_ssj_range_dataframe(dmsp_number,sdt,edt,config)"
   ]
  },
  {
   "cell_type": "code",
   "execution_count": null,
   "metadata": {},
   "outputs": [],
   "source": [
    "import pandas as pd"
   ]
  },
  {
   "cell_type": "code",
   "execution_count": null,
   "metadata": {},
   "outputs": [],
   "source": [
    "from ssjlatbin.latbin_pandas import bin_by_latitude"
   ]
  },
  {
   "cell_type": "code",
   "execution_count": null,
   "metadata": {},
   "outputs": [],
   "source": [
    "lbdf = bin_by_latitude(df,config)"
   ]
  },
  {
   "cell_type": "code",
   "execution_count": null,
   "metadata": {},
   "outputs": [],
   "source": [
    "lbdf"
   ]
  },
  {
   "cell_type": "code",
   "execution_count": null,
   "metadata": {},
   "outputs": [],
   "source": [
    "from ssjlatbin.io import dataframe_to_latbinned_flux"
   ]
  },
  {
   "cell_type": "code",
   "execution_count": null,
   "metadata": {},
   "outputs": [],
   "source": [
    "t,lats,flag,fluxes = dataframe_to_latbinned_flux(lbdf,'ion_soft_number')"
   ]
  },
  {
   "cell_type": "code",
   "execution_count": null,
   "metadata": {},
   "outputs": [],
   "source": [
    "from ssjlatbin.fluxcalculations import average_particle_energy\n",
    "t,lats,_,influxs = dataframe_to_latbinned_flux(lbdf,'ion_soft_number')\n",
    "t,lats,_,eefluxh = dataframe_to_latbinned_flux(lbdf,'ele_hard_energy')\n",
    "t,lats,_,eeflux = dataframe_to_latbinned_flux(lbdf,'ele_total_energy')\n",
    "t,lats,_,enflux = dataframe_to_latbinned_flux(lbdf,'ele_total_number')\n",
    "t,lats,_,sza = dataframe_to_latbinned_flux(lbdf,'solar_zenith_angle')\n",
    "\n",
    "eavg = average_particle_energy(eeflux,enflux)\n",
    "eavg[enflux==0]=0 #Prevent NaN values if zero number flux"
   ]
  },
  {
   "cell_type": "code",
   "execution_count": null,
   "metadata": {
    "scrolled": false
   },
   "outputs": [],
   "source": [
    "import numpy as np\n",
    "import matplotlib.pyplot as plt\n",
    "from matplotlib.colors import LogNorm\n",
    "\n",
    "def latlabel(value,tick_number):\n",
    "    ilat = int(np.round(value))\n",
    "    if ilat>=len(lats):\n",
    "        ilat=len(lats)-1\n",
    "    return '{}'.format(lats[ilat])\n",
    "\n",
    "N = lats > 0\n",
    "\n",
    "f = plt.figure(figsize=(8,6),dpi=150)\n",
    "ax = f.add_subplot(111)\n",
    "mappable = ax.pcolormesh(t,np.arange(lats.size),influxs.T,vmax=1e12,norm=LogNorm(),cmap='Reds')\n",
    "ax.yaxis.set_major_formatter(plt.FuncFormatter(latlabel))\n",
    "f.colorbar(mappable,label='Soft Ion Number Flux \\n [particles/m^2]')\n",
    "f.autofmt_xdate()\n",
    "\n",
    "# f = plt.figure(figsize=(8,6),dpi=150)\n",
    "# ax = f.add_subplot(111)\n",
    "# mappable = ax.pcolormesh(t,np.arange(lats.size),enflux.T,vmax=1e13,norm=LogNorm())\n",
    "# ax.yaxis.set_major_formatter(plt.FuncFormatter(latlabel))\n",
    "# f.colorbar(mappable,label='Total Electron Number Flux \\n [particles/m^2]')\n",
    "# f.autofmt_xdate()\n",
    "\n",
    "# f = plt.figure(figsize=(8,6),dpi=150)\n",
    "# ax = f.add_subplot(111)\n",
    "# mappable = ax.pcolormesh(t,np.arange(lats.size),eeflux.T,vmin=.0001,vmax=10,norm=LogNorm())\n",
    "# ax.yaxis.set_major_formatter(plt.FuncFormatter(latlabel))\n",
    "# f.colorbar(mappable,label='Total Electron Energy Flux \\n [mW/m^2]')\n",
    "# f.autofmt_xdate()\n",
    "\n",
    "f3 = plt.figure(figsize=(8,6),dpi=150)\n",
    "ax3 = f3.add_subplot(111)\n",
    "mappable2 = ax3.pcolormesh(t,np.arange(lats.size),influxs.T,vmax=1e12,norm=LogNorm(),cmap='Reds')\n",
    "mappable = ax3.pcolormesh(t,np.arange(lats.size),eefluxh.T,vmin=.01,vmax=10,norm=LogNorm())\n",
    "ax3.yaxis.set_major_formatter(plt.FuncFormatter(latlabel))\n",
    "f3.colorbar(mappable,label='Hard Electron Energy Flux \\n [mW/m^2]')\n",
    "f3.autofmt_xdate()\n",
    "\n",
    "f4 = plt.figure(figsize=(8,6),dpi=150)\n",
    "ax4 = f4.add_subplot(111)\n",
    "mappable = ax4.pcolormesh(t,np.arange(lats.size),eavg.T,cmap='plasma',vmin=100,vmax=10000)\n",
    "ax4.yaxis.set_major_formatter(plt.FuncFormatter(latlabel))\n",
    "f4.colorbar(mappable,label='Electron Average Energy \\n [eV]')\n",
    "f4.autofmt_xdate()\n",
    "\n",
    "f5 = plt.figure(figsize=(8,6),dpi=150)\n",
    "ax5 = f5.add_subplot(111)\n",
    "mappable = ax5.pcolormesh(t,np.arange(lats.size),np.degrees(sza.T),cmap='plasma_r')\n",
    "ax5.yaxis.set_major_formatter(plt.FuncFormatter(latlabel))\n",
    "f5.colorbar(mappable,label='Solar Zenith Angle [deg]')\n",
    "f5.autofmt_xdate()\n",
    "\n",
    "# for thisax in [ax,ax3,ax4]:\n",
    "#     thisax.set_xlim([datetime.datetime(2000,7,14),datetime.datetime(2000,7,19)])"
   ]
  }
 ],
 "metadata": {
  "kernelspec": {
   "display_name": "Python 3",
   "language": "python",
   "name": "python3"
  },
  "language_info": {
   "codemirror_mode": {
    "name": "ipython",
    "version": 3
   },
   "file_extension": ".py",
   "mimetype": "text/x-python",
   "name": "python",
   "nbconvert_exporter": "python",
   "pygments_lexer": "ipython3",
   "version": "3.7.9"
  }
 },
 "nbformat": 4,
 "nbformat_minor": 2
}
